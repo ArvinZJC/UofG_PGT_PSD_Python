{
 "metadata": {
  "language_info": {
   "codemirror_mode": {
    "name": "ipython",
    "version": 3
   },
   "file_extension": ".py",
   "mimetype": "text/x-python",
   "name": "python",
   "nbconvert_exporter": "python",
   "pygments_lexer": "ipython3",
   "version": "3.8.5-final"
  },
  "orig_nbformat": 2,
  "kernelspec": {
   "name": "python3",
   "display_name": "Python 3.8.5 64-bit (conda)",
   "metadata": {
    "interpreter": {
     "hash": "83ad9dc287f1bd68e1373a062e5fec25449c786b53be0804b995b765c2d61fc9"
    }
   }
  }
 },
 "nbformat": 4,
 "nbformat_minor": 2,
 "cells": [
  {
   "source": [
    "Description: solutions to Tasks 1 - 4 of tAPP 4\n",
    "\n",
    "Version: 1.0.2.20210122\n",
    "\n",
    "Author: Arvin Zhao\n",
    "\n",
    "Last editors: Arvin Zhao\n",
    "\n",
    "(Python 3.8.5 + NumPy 1.19.5)"
   ],
   "cell_type": "markdown",
   "metadata": {}
  },
  {
   "source": [
    "# Task 1"
   ],
   "cell_type": "markdown",
   "metadata": {}
  },
  {
   "cell_type": "code",
   "execution_count": 1,
   "metadata": {},
   "outputs": [
    {
     "output_type": "stream",
     "name": "stdout",
     "text": [
      "[10 11 12 13 14 15 16 17 18 19 20]\n"
     ]
    }
   ],
   "source": [
    "import numpy as np\n",
    "\n",
    "\n",
    "print(np.arange(10, 21))  # Create a NumPy array of the integers from 10 to 20."
   ]
  },
  {
   "source": [
    "# Task 2"
   ],
   "cell_type": "markdown",
   "metadata": {}
  },
  {
   "cell_type": "code",
   "execution_count": 2,
   "metadata": {},
   "outputs": [
    {
     "output_type": "stream",
     "name": "stdout",
     "text": [
      "[[0 1 2]\n [3 4 5]\n [6 7 8]]\n"
     ]
    }
   ],
   "source": [
    "# import numpy as np\n",
    "\n",
    "\n",
    "who_knows = np.arange(9).reshape(3, 3)  # Create a 3x3 NumPy array of the integers from 0 to 8.\n",
    "print(who_knows)"
   ]
  },
  {
   "cell_type": "code",
   "execution_count": 3,
   "metadata": {},
   "outputs": [
    {
     "output_type": "stream",
     "name": "stdout",
     "text": [
      "[[0 1 2]\n [3 4 5]\n [6 7 8]]\n"
     ]
    }
   ],
   "source": [
    "file_name = 'task2.txt'\n",
    "\n",
    "np.savetxt(file_name, who_knows, fmt = '%d')\n",
    "print(np.loadtxt(file_name, dtype = int))"
   ]
  },
  {
   "source": [
    "----------\n",
    "\n",
    "It has been agreed that there are at least 4 ways to calculate the **matrix** product of the NumPy **arrays** `array1` and `array2` in the following tasks.\n",
    "\n",
    "- [`np.matmul(array1, array2)`](https://numpy.org/doc/stable/reference/generated/numpy.matmul.html)\n",
    "\n",
    "- [`np.dot(array1, array2)`](https://numpy.org/doc/stable/reference/generated/numpy.dot.html)\n",
    "\n",
    "- [`array1 @ array2`](https://www.python.org/dev/peps/pep-0465/)\n",
    "\n",
    "- `np.matrix(array1) * np.matrix(array2)`"
   ],
   "cell_type": "markdown",
   "metadata": {}
  },
  {
   "source": [
    "# Task 3"
   ],
   "cell_type": "markdown",
   "metadata": {}
  },
  {
   "cell_type": "code",
   "execution_count": 6,
   "metadata": {},
   "outputs": [
    {
     "output_type": "stream",
     "name": "stdout",
     "text": [
      "Addition:\n[[26 50 12]\n [14 26 58]\n [10 24 15]]\n\nSubtraction:\n[[20 40 10]\n [10 20 50]\n [-8 22  5]]\n\nMatrix product:\n[[258 261 258]\n [568 183 374]\n [139  84 143]]\n"
     ]
    }
   ],
   "source": [
    "# import numpy as np\n",
    "\n",
    "\n",
    "array1 = np.array([\n",
    "    [23, 45, 11],\n",
    "    [12, 23, 54],\n",
    "    [1, 23, 10]\n",
    "])\n",
    "array2 = np.array([\n",
    "    [3, 5, 1],\n",
    "    [2, 3, 4],\n",
    "    [9, 1, 5]\n",
    "])\n",
    "\n",
    "print('Addition:')\n",
    "print(array1 + array2)\n",
    "print('\\nSubtraction:')\n",
    "print(array1 - array2)\n",
    "print('\\nMatrix product:')\n",
    "print(np.matmul(array1, array2))"
   ]
  },
  {
   "cell_type": "code",
   "execution_count": 5,
   "metadata": {},
   "outputs": [
    {
     "output_type": "stream",
     "name": "stdout",
     "text": [
      "Addition:\n[[11 10  2]\n [ 4 12  9]\n [ 3 13  6]]\n\nSubtraction:\n[[-5  0  0]\n [ 0 -6  1]\n [-1 -7 -4]]\n\nMatrix product:\n[[36 70 28]\n [32 87 39]\n [16 42 18]]\n"
     ]
    }
   ],
   "source": [
    "# import numpy as np\n",
    "\n",
    "\n",
    "array1 = np.array([\n",
    "    [3, 5, 1],\n",
    "    [2, 3, 5],\n",
    "    [1, 3, 1]\n",
    "])\n",
    "array2 = np.array([\n",
    "    [8, 5, 1],\n",
    "    [2, 9, 4],\n",
    "    [2, 10, 5]\n",
    "])\n",
    "\n",
    "print('Addition:')\n",
    "print(array1 + array2)\n",
    "print('\\nSubtraction:')\n",
    "print(array1 - array2)\n",
    "print('\\nMatrix product:')\n",
    "print(array1 @ array2)"
   ]
  }
 ]
}